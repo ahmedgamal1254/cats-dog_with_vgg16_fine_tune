{
  "nbformat": 4,
  "nbformat_minor": 0,
  "metadata": {
    "colab": {
      "name": "cats&dogs.ipynb",
      "private_outputs": true,
      "provenance": [],
      "collapsed_sections": []
    },
    "kernelspec": {
      "name": "python3",
      "display_name": "Python 3"
    },
    "language_info": {
      "name": "python"
    },
    "accelerator": "GPU",
    "gpuClass": "standard"
  },
  "cells": [
    {
      "cell_type": "code",
      "execution_count": null,
      "metadata": {
        "id": "svVdGHrV7USJ"
      },
      "outputs": [],
      "source": [
        "#Configuration environment\n",
        "import os\n",
        "\n",
        "os.environ['KAGGLE_USERNAME'] = \"ahmedgamal12\" # username from the json file\n",
        "os.environ['KAGGLE_KEY'] = \"6967fdeab2dcdc7361ec924e3ba0dafb\" # key from the json file"
      ]
    },
    {
      "cell_type": "code",
      "source": [
        "!kaggle competitions download -c dogs-vs-cats"
      ],
      "metadata": {
        "id": "BxHkfKAIIPfv"
      },
      "execution_count": null,
      "outputs": []
    },
    {
      "cell_type": "code",
      "source": [
        "import zipfile\n",
        "\n",
        "with zipfile.ZipFile(\"/content/dogs-vs-cats.zip\", mode=\"r\") as archive:\n",
        "    archive.printdir()\n",
        "    archive.extractall()"
      ],
      "metadata": {
        "id": "RS4wK0wDIW5g"
      },
      "execution_count": null,
      "outputs": []
    },
    {
      "cell_type": "code",
      "source": [
        "with zipfile.ZipFile(\"/content/train.zip\", mode=\"r\") as archive:\n",
        "    archive.extractall()"
      ],
      "metadata": {
        "id": "iaDlHkvsIkMz"
      },
      "execution_count": null,
      "outputs": []
    },
    {
      "cell_type": "code",
      "source": [
        "with zipfile.ZipFile(\"/content/test1.zip\", mode=\"r\") as archive:\n",
        "    archive.extractall()"
      ],
      "metadata": {
        "id": "KlTi0_ZAI19s"
      },
      "execution_count": null,
      "outputs": []
    },
    {
      "cell_type": "code",
      "source": [
        "# import libs\n",
        "import numpy as np\n",
        "import matplotlib.pyplot as plt\n",
        "%matplotlib inline\n",
        "\n",
        "import cv2\n",
        "import os\n",
        "import glob"
      ],
      "metadata": {
        "id": "CRjljyiDI72l"
      },
      "execution_count": null,
      "outputs": []
    },
    {
      "cell_type": "code",
      "source": [
        "# make main folder and move train , test in it\n",
        "os.mkdir('main')\n",
        "os.mkdir('main/train')\n",
        "os.mkdir('main/test')"
      ],
      "metadata": {
        "id": "4xOHAVozK-_N"
      },
      "execution_count": null,
      "outputs": []
    },
    {
      "cell_type": "code",
      "source": [
        "len(os.listdir('/content/train')),len(os.listdir('/content/test1'))"
      ],
      "metadata": {
        "id": "hYeRNwfoL0pA"
      },
      "execution_count": null,
      "outputs": []
    },
    {
      "cell_type": "code",
      "source": [
        "import shutil"
      ],
      "metadata": {
        "id": "2kHeDqCaMu1S"
      },
      "execution_count": null,
      "outputs": []
    },
    {
      "cell_type": "code",
      "source": [
        "print(os.listdir('/content/train'))"
      ],
      "metadata": {
        "id": "8dFReHguNtVB"
      },
      "execution_count": null,
      "outputs": []
    },
    {
      "cell_type": "code",
      "source": [
        "os.rename('/content/main/test','/content/main/test1')"
      ],
      "metadata": {
        "id": "wKjYHVFuPJFn"
      },
      "execution_count": null,
      "outputs": []
    },
    {
      "cell_type": "code",
      "source": [
        "arr=['train','test1']\n",
        "\n",
        "for folder in arr:\n",
        "  path=os.path.join('/content/',folder)\n",
        "  for img in os.listdir(path):\n",
        "    img_path=os.path.join(path,img)\n",
        "    target=f'/content/main/{folder}'\n",
        "    shutil.move(img_path, target)"
      ],
      "metadata": {
        "id": "hd-UgC2TMBde"
      },
      "execution_count": null,
      "outputs": []
    },
    {
      "cell_type": "code",
      "source": [
        "print(os.listdir('/content/main/test1'))"
      ],
      "metadata": {
        "id": "FhHSNwsVPZ5n"
      },
      "execution_count": null,
      "outputs": []
    },
    {
      "cell_type": "code",
      "source": [
        "print(os.listdir('/content/main/train'))"
      ],
      "metadata": {
        "id": "u9s_2skFPlVC"
      },
      "execution_count": null,
      "outputs": []
    },
    {
      "cell_type": "code",
      "source": [
        "os.rmdir('/content/test1')\n",
        "os.rmdir('/content/train')"
      ],
      "metadata": {
        "id": "aI4Iy8n-PqYc"
      },
      "execution_count": null,
      "outputs": []
    },
    {
      "cell_type": "code",
      "source": [
        "os.rename('/content/main/test1','/content/main/test')"
      ],
      "metadata": {
        "id": "apjwTLqdQC48"
      },
      "execution_count": null,
      "outputs": []
    },
    {
      "cell_type": "code",
      "source": [
        "import tensorflow as tf\n",
        "from tensorflow import keras"
      ],
      "metadata": {
        "id": "ISsf_R0uTOM-"
      },
      "execution_count": null,
      "outputs": []
    },
    {
      "cell_type": "code",
      "source": [
        "# image generator libs\n",
        "from keras.preprocessing.image import load_img,img_to_array,ImageDataGenerator\n",
        "from tensorflow.keras.applications.resnet50 import preprocess_input"
      ],
      "metadata": {
        "id": "vDbUiAcQQJ5K"
      },
      "execution_count": null,
      "outputs": []
    },
    {
      "cell_type": "code",
      "source": [
        "# make 2 classes in train ==> dog & cat\n",
        "os.mkdir('/content/main/train/cat')\n",
        "os.mkdir('/content/main/train/dog')"
      ],
      "metadata": {
        "id": "knxdSvYKJMkO"
      },
      "execution_count": null,
      "outputs": []
    },
    {
      "cell_type": "code",
      "source": [
        "len(os.listdir('/content/main/train'))"
      ],
      "metadata": {
        "id": "J4DF_OxlJMmF"
      },
      "execution_count": null,
      "outputs": []
    },
    {
      "cell_type": "code",
      "source": [
        "# len(glob.glob('/content/main/train/*.jpg'))\n",
        "for i in glob.glob('/content/main/train/*.jpg'):\n",
        "  last=i.split('/')[-1]\n",
        "  if last.split('.')[0]=='cat':\n",
        "    shutil.move(i, '/content/main/train/cat')\n",
        "  else:\n",
        "    shutil.move(i,'/content/main/train/dog')"
      ],
      "metadata": {
        "id": "6FwB6cgrJMpC"
      },
      "execution_count": null,
      "outputs": []
    },
    {
      "cell_type": "code",
      "source": [
        "len(os.listdir('/content/main/train/cat')),len(os.listdir('/content/main/train/dog'))"
      ],
      "metadata": {
        "id": "XXwWd5fNJMsE"
      },
      "execution_count": null,
      "outputs": []
    },
    {
      "cell_type": "code",
      "source": [
        "train_batch=ImageDataGenerator(preprocessing_function=tf.keras.applications.vgg16.preprocess_input).flow_from_directory('/content/main/train',\n",
        "                    target_size=(224,224),batch_size=10)"
      ],
      "metadata": {
        "id": "aaNaXkatJMuq"
      },
      "execution_count": null,
      "outputs": []
    },
    {
      "cell_type": "code",
      "source": [
        "imgs,labels=next(train_batch)"
      ],
      "metadata": {
        "id": "ixNzmrxbJMxb"
      },
      "execution_count": null,
      "outputs": []
    },
    {
      "cell_type": "code",
      "source": [
        "plt.imshow(imgs[6])"
      ],
      "metadata": {
        "id": "Q4Yfq97pJM1R"
      },
      "execution_count": null,
      "outputs": []
    },
    {
      "cell_type": "code",
      "source": [
        "labels"
      ],
      "metadata": {
        "id": "KimL6gUvN1VT"
      },
      "execution_count": null,
      "outputs": []
    },
    {
      "cell_type": "code",
      "source": [
        "vgg_16_model=tf.keras.applications.vgg16.VGG16()\n",
        "vgg_16_model.summary()"
      ],
      "metadata": {
        "id": "sT3pN4DqN1W1"
      },
      "execution_count": null,
      "outputs": []
    },
    {
      "cell_type": "code",
      "source": [
        "model=keras.Sequential()\n",
        "for layer in vgg_16_model.layers[:-1]:\n",
        "  model.add(layer)"
      ],
      "metadata": {
        "id": "7Lb8qDpSOjHm"
      },
      "execution_count": null,
      "outputs": []
    },
    {
      "cell_type": "code",
      "source": [
        "# make freezing for this model\n",
        "for layer in model.layers:\n",
        "  layer.trainable=False"
      ],
      "metadata": {
        "id": "6pDuVCsPOjKc"
      },
      "execution_count": null,
      "outputs": []
    },
    {
      "cell_type": "code",
      "source": [
        "model.add(tf.keras.layers.Dense(2,activation='softmax'))"
      ],
      "metadata": {
        "id": "HtaYLkGhN1ZH"
      },
      "execution_count": null,
      "outputs": []
    },
    {
      "cell_type": "code",
      "source": [
        "model.summary()"
      ],
      "metadata": {
        "id": "bS3_HygTPdf5"
      },
      "execution_count": null,
      "outputs": []
    },
    {
      "cell_type": "code",
      "source": [
        "model.compile(optimizer='adam',loss='categorical_crossentropy',metrics=['accuracy'])"
      ],
      "metadata": {
        "id": "1amzpjZ6Pdi4"
      },
      "execution_count": null,
      "outputs": []
    },
    {
      "cell_type": "code",
      "source": [
        "model.fit(train_batch,steps_per_epoch=len(train_batch),epochs=10,verbose=2)"
      ],
      "metadata": {
        "id": "7e-OzzUmQEle"
      },
      "execution_count": null,
      "outputs": []
    },
    {
      "cell_type": "code",
      "source": [
        "from tensorflow.keras.applications.vgg16 import preprocess_input"
      ],
      "metadata": {
        "id": "9lsw5OCeN1c5"
      },
      "execution_count": null,
      "outputs": []
    },
    {
      "cell_type": "code",
      "source": [
        "import random\n",
        "x=random.choice(os.listdir('/content/main/test'))\n",
        "print(x)\n",
        "img=plt.imread(os.path.join('/content/main/test',x))\n",
        "img=cv2.resize(img,dsize=(224,224))\n",
        "img_new=preprocess_input(img)\n",
        "plt.imshow(img)"
      ],
      "metadata": {
        "id": "kOVVS22HYtcE"
      },
      "execution_count": null,
      "outputs": []
    },
    {
      "cell_type": "code",
      "source": [
        "feature=model.predict(np.expand_dims(img_new,0))"
      ],
      "metadata": {
        "id": "rEB2VSxfYtd7"
      },
      "execution_count": null,
      "outputs": []
    },
    {
      "cell_type": "code",
      "source": [
        "feature.round(2)"
      ],
      "metadata": {
        "id": "_RUqTF8TYth1"
      },
      "execution_count": null,
      "outputs": []
    },
    {
      "cell_type": "code",
      "source": [
        "train_batch.class_indices"
      ],
      "metadata": {
        "id": "qC67YDt-d3mf"
      },
      "execution_count": null,
      "outputs": []
    },
    {
      "cell_type": "code",
      "source": [
        "train_batch.class_mode"
      ],
      "metadata": {
        "id": "pyP9beG8d3pW"
      },
      "execution_count": null,
      "outputs": []
    },
    {
      "cell_type": "code",
      "source": [
        "model.save('/content/drive/MyDrive/cat_dog.h5')"
      ],
      "metadata": {
        "id": "HCb2km0HeXjw"
      },
      "execution_count": null,
      "outputs": []
    },
    {
      "cell_type": "markdown",
      "source": [
        "## this is the end of fine tune vgg16\n",
        "in the down is an Experiments alone"
      ],
      "metadata": {
        "id": "SGU_VGV6mzv8"
      }
    },
    {
      "cell_type": "code",
      "source": [
        "labels={'cat':0,'dog':1}\n",
        "\n",
        "def get_label(num):\n",
        "  for i,j in labels.items():\n",
        "    if j==num:return i\n",
        "get_label(0)"
      ],
      "metadata": {
        "id": "1Mg8g5nc-fEB"
      },
      "execution_count": null,
      "outputs": []
    },
    {
      "cell_type": "code",
      "source": [
        "imgs=[]\n",
        "target=[]\n",
        "for i in os.listdir('/content/main/train'):\n",
        "  img=os.path.join('/content/main/train',i)\n",
        "  img_arr=plt.imread(img)\n",
        "  new_arr=cv2.resize(img_arr,dsize=(64,64))\n",
        "  label=i.split('.')[0]\n",
        "  imgs.append(new_arr)\n",
        "  target.append(labels[label])"
      ],
      "metadata": {
        "id": "hLYGbm1dX7AM"
      },
      "execution_count": null,
      "outputs": []
    },
    {
      "cell_type": "code",
      "source": [
        "np.shape(imgs)"
      ],
      "metadata": {
        "id": "3xClX2H9YeLq"
      },
      "execution_count": null,
      "outputs": []
    },
    {
      "cell_type": "code",
      "source": [
        "X=np.array(imgs)\n",
        "y=np.array(target)"
      ],
      "metadata": {
        "id": "y1GZXIj7-yif"
      },
      "execution_count": null,
      "outputs": []
    },
    {
      "cell_type": "code",
      "source": [
        "from sklearn.model_selection import train_test_split\n",
        "X_train, X_test ,y_train,y_test = train_test_split(X, y, test_size=0.20, random_state=88)"
      ],
      "metadata": {
        "id": "VXqDgxcL-7vx"
      },
      "execution_count": null,
      "outputs": []
    },
    {
      "cell_type": "code",
      "source": [
        "array_imgs=np.array(imgs)"
      ],
      "metadata": {
        "id": "EB_7MLBMYvG7"
      },
      "execution_count": null,
      "outputs": []
    },
    {
      "cell_type": "code",
      "source": [
        "plt.imshow(array_imgs[0])"
      ],
      "metadata": {
        "id": "Wwmq4Da7Y4mh"
      },
      "execution_count": null,
      "outputs": []
    },
    {
      "cell_type": "code",
      "source": [
        "data_generator_with_aug = ImageDataGenerator(preprocessing_function=preprocess_input,\n",
        "                                   horizontal_flip=True,\n",
        "                                   width_shift_range = 1,\n",
        "                                   rotation_range=90,\n",
        "                                   height_shift_range = 1)\n",
        "\n",
        "it=data_generator_with_aug.flow(array_imgs,batch_size=25000)"
      ],
      "metadata": {
        "id": "E_FyhsOKW2RE"
      },
      "execution_count": null,
      "outputs": []
    },
    {
      "cell_type": "code",
      "source": [
        "images=[next(it)[0].astype(np.uint8) for i in range(15000)]"
      ],
      "metadata": {
        "id": "T_pMgJaOY4pV"
      },
      "execution_count": null,
      "outputs": []
    },
    {
      "cell_type": "code",
      "source": [
        "len(images)"
      ],
      "metadata": {
        "id": "OiT6j0vi00I0"
      },
      "execution_count": null,
      "outputs": []
    },
    {
      "cell_type": "code",
      "source": [
        "# mobile=tf.keras.applications.mobilenet.MobileNet()\n",
        "# mobile.summary()"
      ],
      "metadata": {
        "id": "nOGOa1N3wyDz"
      },
      "execution_count": null,
      "outputs": []
    },
    {
      "cell_type": "code",
      "source": [
        "# x = mobile.layers[-6].output\n",
        "# x"
      ],
      "metadata": {
        "id": "DdqRob5v6Tkn"
      },
      "execution_count": null,
      "outputs": []
    },
    {
      "cell_type": "code",
      "source": [
        "output = Dense(units=2, activation='softmax')(x)\n"
      ],
      "metadata": {
        "id": "WQ_fj7d26V9X"
      },
      "execution_count": null,
      "outputs": []
    },
    {
      "cell_type": "code",
      "source": [
        "# model = Model(inputs=mobile.input, outputs=output)"
      ],
      "metadata": {
        "id": "oOIIzZlW6utE"
      },
      "execution_count": null,
      "outputs": []
    },
    {
      "cell_type": "code",
      "source": [
        "# for layer in model.layers[:-23]:\n",
        "#     layer.trainable = False"
      ],
      "metadata": {
        "id": "M0wP3tYb64d1"
      },
      "execution_count": null,
      "outputs": []
    },
    {
      "cell_type": "code",
      "source": [
        "# model.summary()"
      ],
      "metadata": {
        "id": "8rqw3s4X7D2j"
      },
      "execution_count": null,
      "outputs": []
    },
    {
      "cell_type": "code",
      "source": [
        "model = keras.models.Sequential([\n",
        "    keras.layers.Conv2D(filters=96, kernel_size=(3,3), activation='relu', input_shape=(64,64,3)),\n",
        "    keras.layers.BatchNormalization(),\n",
        "    keras.layers.MaxPool2D(pool_size=(3,3)),\n",
        "    keras.layers.Conv2D(filters=56, kernel_size=(5,5), activation='relu', padding=\"same\"),\n",
        "    keras.layers.BatchNormalization(),\n",
        "    keras.layers.MaxPool2D(pool_size=(3,3), strides=(2,2)),\n",
        "    keras.layers.Flatten(),\n",
        "    keras.layers.Dense(4096, activation='relu'),\n",
        "    keras.layers.Dropout(0.5),\n",
        "    keras.layers.Dense(4096, activation='relu'),\n",
        "    keras.layers.Dropout(0.5),\n",
        "    keras.layers.Dense(10, activation='softmax')\n",
        "])"
      ],
      "metadata": {
        "id": "RAnueZ3N6mXn"
      },
      "execution_count": null,
      "outputs": []
    },
    {
      "cell_type": "code",
      "source": [
        "model.compile(optimizer='adam',loss = tf.keras.losses.SparseCategoricalCrossentropy(from_logits=False), metrics=['accuracy'])"
      ],
      "metadata": {
        "id": "m6h6LzQv7KT7"
      },
      "execution_count": null,
      "outputs": []
    },
    {
      "cell_type": "code",
      "source": [
        "model.fit(x=X_train,y=y_train,steps_per_epoch=len(X_train),epochs=30)"
      ],
      "metadata": {
        "id": "GxHt6dtJ-CbM"
      },
      "execution_count": null,
      "outputs": []
    },
    {
      "cell_type": "code",
      "source": [
        "from google.colab import drive\n",
        "drive.mount('/content/drive')"
      ],
      "metadata": {
        "id": "XKaoN4yHWr0k"
      },
      "execution_count": null,
      "outputs": []
    },
    {
      "cell_type": "code",
      "source": [
        "model.evalute(X_test,y_test)"
      ],
      "metadata": {
        "id": "lE-NiCRB9tH4"
      },
      "execution_count": null,
      "outputs": []
    },
    {
      "cell_type": "code",
      "source": [
        ""
      ],
      "metadata": {
        "id": "SIxIl0bj-Vc5"
      },
      "execution_count": null,
      "outputs": []
    }
  ]
}