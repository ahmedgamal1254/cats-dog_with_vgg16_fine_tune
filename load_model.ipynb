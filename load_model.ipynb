{
  "nbformat": 4,
  "nbformat_minor": 0,
  "metadata": {
    "colab": {
      "name": "load_model.ipynb",
      "private_outputs": true,
      "provenance": []
    },
    "kernelspec": {
      "name": "python3",
      "display_name": "Python 3"
    },
    "language_info": {
      "name": "python"
    }
  },
  "cells": [
    {
      "cell_type": "code",
      "execution_count": null,
      "metadata": {
        "id": "zD4wILDCk2uJ"
      },
      "outputs": [],
      "source": [
        "import tensorflow as tf\n",
        "from tensorflow import keras "
      ]
    },
    {
      "cell_type": "code",
      "source": [
        "model=keras.models.load_model('/content/drive/MyDrive/cat_dog.h5')"
      ],
      "metadata": {
        "id": "-tOXdfpJlHOK"
      },
      "execution_count": null,
      "outputs": []
    },
    {
      "cell_type": "code",
      "source": [
        "import numpy as np\n",
        "import cv2\n",
        "import os\n",
        "import matplotlib.pyplot as plt"
      ],
      "metadata": {
        "id": "BLqtAUFjl9vE"
      },
      "execution_count": null,
      "outputs": []
    },
    {
      "cell_type": "code",
      "source": [
        "img='/content/download (2).jpg'\n",
        "img_arr=plt.imread(img)\n",
        "img_new=cv2.resize(img_arr,dsize=(224,224))\n",
        "img_process=tf.keras.applications.vgg16.preprocess_input(img_new)\n",
        "plt.imshow(img_arr)"
      ],
      "metadata": {
        "id": "n0-IzMMkmItR"
      },
      "execution_count": null,
      "outputs": []
    },
    {
      "cell_type": "code",
      "source": [
        "img_end=np.expand_dims(img_process,0)\n",
        "result=np.round(model.predict(img_end),2)\n",
        "if np.argmax(result) == 0:print('this is cat')\n",
        "elif np.argmax(result) == 1:print('this is dog')"
      ],
      "metadata": {
        "id": "7f50Dq5SmI6G"
      },
      "execution_count": null,
      "outputs": []
    },
    {
      "cell_type": "code",
      "source": [
        "model.summary()"
      ],
      "metadata": {
        "id": "C82T1fj3pcBV"
      },
      "execution_count": null,
      "outputs": []
    }
  ]
}